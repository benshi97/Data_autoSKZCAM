{
 "cells": [
  {
   "cell_type": "code",
   "execution_count": null,
   "metadata": {},
   "outputs": [],
   "source": [
    "# Keep only Surface, Molecule, Hads and Error columns in expt_hads_df\n",
    "hads_nu13_comparison_df = expt_hads_df[['Surface','Molecule','Hads','Error']]\n",
    "# Remove the 'Physisorbed CO2' row\n",
    "hads_nu13_comparison_df = hads_nu13_comparison_df[hads_nu13_comparison_df['Molecule'] != 'Physisorbed CO2']\n",
    "# Rename the columns to Expt. Hads and Expt. Error\n",
    "hads_nu13_comparison_df.columns = ['Surface','Molecule','Expt. Hads','Expt. Error']\n",
    "\n",
    "# Save autoSKZCAM and experiment hads into a nested dictionary with surface -> molecule -> experiment or autosKZCAM for plotting in next cell\n",
    "hads_nu13_comparison_dict = {}\n",
    "\n",
    "for idx, row in hads_nu13_comparison_df.iterrows():\n",
    "    surface = row[\"Surface\"]\n",
    "    molecule = row[\"Molecule\"]\n",
    "    \n",
    "    if surface not in hads_nu13_comparison_dict:\n",
    "        hads_nu13_comparison_dict[surface] = {}\n",
    "        \n",
    "    hads_nu13_comparison_dict[surface][molecule] = {\n",
    "        'Experiment': [int(row['Expt. Hads']), int(row['Expt. Error'])],\n",
    "        'autoSKZCAM': [0, 0]\n",
    "    }\n",
    "\n",
    "# Add the AutoSKZCAM Hads and Error columns to the DataFrame\n",
    "# Loop over the DataFrame and add the AutoSKZCAM Hads and Error values\n",
    "autoskzcam_ground_state_hads = []\n",
    "autoskzcam_ground_state_hads_error = []\n",
    "system_label_list = []\n",
    "hads_delta_min_list = []\n",
    "\n",
    "for idx, row in hads_nu13_comparison_df.iterrows():\n",
    "    surface = row['Surface']\n",
    "    molecule = row['Molecule']\n",
    "\n",
    "    system_expt_hads = int(row['Expt. Hads'])\n",
    "    system_expt_error = int(row['Expt. Error'])\n",
    "    system_expt_hads_lower_bound = system_expt_hads - system_expt_error\n",
    "    system_expt_hads_upper_bound = system_expt_hads + system_expt_error\n",
    "    \n",
    "    if len(molecule.split()) == 2:\n",
    "        if molecule.split()[0] == 'Cluster':\n",
    "            cluster_size = 'Tetramer' if molecule.split()[1] in ['H2O','CH3OH'] else 'Dimer'\n",
    "            molecule_label = molecule.split()[1] + ' ' + cluster_size\n",
    "        else:\n",
    "            molecule_label = molecule.split()[1] + ' ' + molecule.split()[0]\n",
    "    elif surface == 'MgO' and molecule == 'H2O':\n",
    "        molecule_label = 'H2O Monomer'\n",
    "    elif surface == 'MgO' and molecule == 'N2O':\n",
    "        molecule_label = 'N2O Parallel'\n",
    "    elif surface == 'r-TiO2' and molecule == 'CO2':\n",
    "        molecule_label = 'CO2 Tilted'\n",
    "\n",
    "    else:\n",
    "        molecule_label = molecule\n",
    "\n",
    "    system_label = f'{convert_to_nice_labels[\"adsorbates\"][surface][molecule_label]} on {convert_to_nice_labels[\"surface\"][surface]}'\n",
    "\n",
    "    system_label_list += [system_label]\n",
    "    autoskzcam_ground_state_hads += [int(round(autoskzcam_final_hads_dict[surface][molecule_label]['Final'][0]))]\n",
    "    autoskzcam_ground_state_hads_error += [int(round(autoskzcam_final_hads_dict[surface][molecule_label]['Final'][1]))]\n",
    "    hads_nu13_comparison_dict[surface][molecule]['autoSKZCAM'] = [int(round(autoskzcam_final_hads_dict[surface][molecule_label]['Final'][0])), int(round(autoskzcam_final_hads_dict[surface][molecule_label]['Final'][1]) )]\n",
    "\n",
    "    system_autoskzcam_hads_lower_bound = autoskzcam_final_hads_dict[surface][molecule_label]['Final'][0] - autoskzcam_final_hads_dict[surface][molecule_label]['Final'][1]\n",
    "\n",
    "    system_autoskzcam_hads_upper_bound = autoskzcam_final_hads_dict[surface][molecule_label]['Final'][0] + autoskzcam_final_hads_dict[surface][molecule_label]['Final'][1]\n",
    "\n",
    "    # Find the minimum difference between the experimental Hads and the AutoSKZCAM Hads errors\n",
    "    if max(system_expt_hads_lower_bound, system_autoskzcam_hads_lower_bound) <= min(system_expt_hads_upper_bound, system_autoskzcam_hads_upper_bound):\n",
    "        delta_min = 0\n",
    "    else:\n",
    "        delta_min = min(abs(system_expt_hads_upper_bound - system_autoskzcam_hads_lower_bound), abs(system_expt_hads_lower_bound - system_autoskzcam_hads_upper_bound))\n",
    "\n",
    "\n",
    "    hads_delta_min_list += [int(round(delta_min))]\n",
    "\n",
    "\n",
    "# Add the system labels, AutoSKZCAM Hads and Error columns to the DataFrame\n",
    "hads_nu13_comparison_df['autoSKZCAM Hads'] = autoskzcam_ground_state_hads\n",
    "hads_nu13_comparison_df['autoSKZCAM Error'] = autoskzcam_ground_state_hads_error\n",
    "hads_nu13_comparison_df['DeltaMin'] = hads_delta_min_list\n",
    "hads_nu13_comparison_df['System'] = system_label_list\n",
    "\n",
    "# Rearrange the columns\n",
    "hads_nu13_comparison_df = hads_nu13_comparison_df[['System','Expt. Hads','Expt. Error','autoSKZCAM Hads','autoSKZCAM Error','DeltaMin']]\n",
    "\n",
    "# Round to nearest integer\n",
    "hads_nu13_comparison_df = hads_nu13_comparison_df.map(lambda x: int(round(x)) if isinstance(x, float) else x)\n",
    "hads_nu13_comparison_df.columns.name = 'System' \n",
    "\n",
    "\n",
    "hads_nu13_comparison_dict['MgO']['CO2'] = hads_nu13_comparison_dict['MgO']['Chemisorbed CO2']\n",
    "del hads_nu13_comparison_dict['MgO']['Chemisorbed CO2']\n",
    "\n",
    "display(hads_nu13_comparison_df)"
   ]
  },
  {
   "cell_type": "code",
   "execution_count": null,
   "metadata": {},
   "outputs": [],
   "source": []
  },
  {
   "cell_type": "code",
   "execution_count": null,
   "metadata": {},
   "outputs": [],
   "source": []
  },
  {
   "cell_type": "code",
   "execution_count": 1,
   "metadata": {},
   "outputs": [],
   "source": [
    "import numpy as np\n",
    "from ase import units\n",
    "from scipy.stats import linregress\n",
    "from datetime import datetime\n",
    "from ase.units import mol, kcal, kJ, Hartree, Bohr\n",
    "import pandas as pd\n",
    "from ase import io\n",
    "import re\n",
    "\n",
    "\n",
    "# Some basic conversion factors\n",
    "cm1_to_eV = 1 / 8065.54429\n",
    "hundredcm1 = 100 * cm1_to_eV * 1000\n",
    "kcalmol_to_meV = kcal / mol * 1000\n",
    "kjmol_to_meV = kJ / mol * 1000\n",
    "mha_to_meV = Hartree"
   ]
  },
  {
   "cell_type": "code",
   "execution_count": 2,
   "metadata": {},
   "outputs": [],
   "source": [
    "def get_mrcc_walltime(filename):\n",
    "    \"\"\"\n",
    "    Reads the walltime from the mrcc.out file.\n",
    "        \n",
    "    Parameters\n",
    "    ----------\n",
    "    filename : str\n",
    "        The location of the 'mrcc.out' file to read from.\n",
    "   \n",
    "   Returns\n",
    "    -------\n",
    "    float\n",
    "        The walltime in seconds.\n",
    "        \n",
    "    Notes\n",
    "    -----\n",
    "    This function reads the 'mrcc.out' file and extracts the start and end time information to calculate the total walltime taken by the MRCC calculation. The function calculates the time duration between the timestamps found in the file and returns it in seconds.\n",
    "    \"\"\"\n",
    "\n",
    "    # Get the start and end time from the file\n",
    "    orig_time = datetime(1, 1, 1, 0, 0)\n",
    "    total_time = datetime(1, 1, 1, 0, 0)\n",
    "\n",
    "    f = open(filename)\n",
    "    a = f.readlines()\n",
    "    b1 = datetime.strptime(\n",
    "        a[19].split()[1] + \"-\" + a[19].split()[2], \"%Y-%m-%d-%H:%M:%S\"\n",
    "    )\n",
    "    b2 = datetime.strptime(\n",
    "        a[-3].split()[1] + \"-\" + a[-3].split()[2], \"%Y-%m-%d-%H:%M:%S\"\n",
    "    )\n",
    "    total_time = total_time + (b2 - b1)\n",
    "    f.close()\n",
    "    return (total_time - orig_time).total_seconds()"
   ]
  },
  {
   "cell_type": "code",
   "execution_count": 7,
   "metadata": {},
   "outputs": [],
   "source": [
    "def get_orca_walltime(filename):\n",
    "    \"\"\"\n",
    "    Reads the walltime from the mrcc.out file.\n",
    "        \n",
    "    Parameters\n",
    "    ----------\n",
    "    filename : str\n",
    "        The location of the 'mrcc.out' file to read from.\n",
    "   \n",
    "   Returns\n",
    "    -------\n",
    "    float\n",
    "        The walltime in seconds.\n",
    "        \n",
    "    Notes\n",
    "    -----\n",
    "    This function reads the 'orca.out' file and extracts the start and end time information to calculate the total walltime in seconds taken by the ORCA calculation. The function calculates the time duration between the timestamps found in the file and returns it in seconds.\n",
    "    \"\"\"\n",
    "\n",
    "    # Get the start and end time from the file\n",
    "    orig_time = datetime(1, 1, 1, 0, 0)\n",
    "    total_time = datetime(1, 1, 1, 0, 0)\n",
    "\n",
    "    f = open(filename)\n",
    "    line = f.readlines()[-1].split()\n",
    "    f.close()\n",
    "\n",
    "    total_time_minutes = float(line[3])*24*60*60+ float(line[5])*60*60 + float(line[7])*60 + float(line[9])\n",
    "    return total_time_minutes"
   ]
  },
  {
   "cell_type": "code",
   "execution_count": 12,
   "metadata": {},
   "outputs": [
    {
     "data": {
      "text/plain": [
       "166033.0"
      ]
     },
     "execution_count": 12,
     "metadata": {},
     "output_type": "execute_result"
    }
   ],
   "source": [
    "get_orca_walltime('Data/05b-Eint_SKZCAM/r-TiO2/H2O/Cluster_7/Molecule-Surface/MP2_aVDZ.orca.out')"
   ]
  },
  {
   "cell_type": "code",
   "execution_count": 13,
   "metadata": {},
   "outputs": [
    {
     "data": {
      "text/plain": [
       "166033"
      ]
     },
     "execution_count": 13,
     "metadata": {},
     "output_type": "execute_result"
    }
   ],
   "source": [
    "1*24*60*60+22*60*60+7*60+13"
   ]
  },
  {
   "cell_type": "code",
   "execution_count": 11,
   "metadata": {},
   "outputs": [
    {
     "data": {
      "text/plain": [
       "10048"
      ]
     },
     "execution_count": 11,
     "metadata": {},
     "output_type": "execute_result"
    }
   ],
   "source": [
    "2*60*60+47*60+28"
   ]
  },
  {
   "cell_type": "code",
   "execution_count": 3,
   "metadata": {},
   "outputs": [],
   "source": [
    "line = 'TOTAL RUN TIME: 0 days 0 hours 0 minutes 12 seconds 900 msec'"
   ]
  },
  {
   "cell_type": "code",
   "execution_count": 5,
   "metadata": {},
   "outputs": [
    {
     "data": {
      "text/plain": [
       "['TOTAL',\n",
       " 'RUN',\n",
       " 'TIME:',\n",
       " '0',\n",
       " 'days',\n",
       " '0',\n",
       " 'hours',\n",
       " '0',\n",
       " 'minutes',\n",
       " '12',\n",
       " 'seconds',\n",
       " '900',\n",
       " 'msec']"
      ]
     },
     "execution_count": 5,
     "metadata": {},
     "output_type": "execute_result"
    }
   ],
   "source": [
    "float(line.split()[3])*24*60+ float(line.split()[5])*60 + float(line.split()[7]) + float(line.split()[9])"
   ]
  },
  {
   "cell_type": "code",
   "execution_count": null,
   "metadata": {},
   "outputs": [],
   "source": []
  },
  {
   "cell_type": "code",
   "execution_count": null,
   "metadata": {},
   "outputs": [],
   "source": [
    "fig, axs = plt.subplots(figsize=(3.365,3.5),dpi=600, sharey=True, constrained_layout=True) #,gridspec_kw={'width_ratios':[0.65,2]})\n",
    "\n",
    "autoskzcam_n2o_parallel_hads = autoskzcam_final_hads_dict['MgO']['N2O Parallel']['Final'][0]\n",
    "autoskzcam_n2o_parallel_hads_error = autoskzcam_final_hads_dict['MgO']['N2O Parallel']['Final'][1]\n",
    "dft_xc_n2o_parallel_hads = [dft_eads_true_dict['MgO']['N2O Parallel'][xc_func] + autoskzcam_final_hads_dict['MgO']['N2O Parallel']['DFT DeltaH'][0] for xc_func in crystal_xc_func_ensemble['MgO']]\n",
    "dft_xc_n2o_parallel_hads_error = [autoskzcam_final_hads_dict['MgO']['N2O Parallel']['DFT DeltaH'][1] for xc_func in crystal_xc_func_ensemble['MgO']]\n",
    "autoskzcam_n2o_tilted_hads = autoskzcam_final_hads_dict['MgO']['N2O Tilted']['Final'][0]\n",
    "autoskzcam_n2o_tilted_hads_error = autoskzcam_final_hads_dict['MgO']['N2O Tilted']['Final'][1]\n",
    "dft_xc_n2o_tilted_hads = [dft_eads_true_dict['MgO']['N2O Tilted'][xc_func] + autoskzcam_final_hads_dict['MgO']['N2O Tilted']['DFT DeltaH'][0] for xc_func in crystal_xc_func_ensemble['MgO']]\n",
    "dft_xc_n2o_tilted_hads_error = [autoskzcam_final_hads_dict['MgO']['N2O Tilted']['DFT DeltaH'][1] for xc_func in crystal_xc_func_ensemble['MgO']]\n",
    "\n",
    "rutile_n2o_expt_hads = float(expt_hads_df.loc[(expt_hads_df['Surface'] == 'MgO') & (expt_hads_df['Molecule'] == 'N2O'), 'Hads'].values[0])\n",
    "rutile_n2o_expt_error = float(expt_hads_df.loc[(expt_hads_df['Surface'] == 'MgO') & (expt_hads_df['Molecule'] == 'N2O'), 'Error'].values[0])\n",
    "\n",
    "axs.errorbar(list(range(7)), [autoskzcam_n2o_parallel_hads] + dft_xc_n2o_parallel_hads, yerr = [autoskzcam_n2o_parallel_hads_error] + dft_xc_n2o_parallel_hads_error, color=color_dict['red'], alpha=0.7, ls='--', marker='o', capsize=2, label='Parallel')\n",
    "axs.errorbar(list(range(7)), [autoskzcam_n2o_tilted_hads] + dft_xc_n2o_tilted_hads, yerr = [autoskzcam_n2o_tilted_hads_error] + dft_xc_n2o_tilted_hads_error, color=color_dict['blue'], alpha=0.7, ls='--', marker='o', capsize=2, label='Tilted')\n",
    "\n",
    "axs.plot([-1,9], [rutile_n2o_expt_hads, rutile_n2o_expt_hads], color='k', linestyle='--', label=r'Expt. $H_\\textrm{ads}$')\n",
    "axs.fill_between([-1,9], rutile_n2o_expt_hads - rutile_n2o_expt_error, rutile_n2o_expt_hads + rutile_n2o_expt_error, color=color_dict['black'],alpha=0.1, edgecolor='none')\n",
    "\n",
    "\n",
    "axs.set_xticks(list(range(7)))\n",
    "axs.set_xticklabels([r'\\textbf{autoSKZCAM}'] + [convert_to_nice_labels['xc_functionals'][xc_func] for xc_func in crystal_xc_func_ensemble['MgO']],rotation=90,ha='center')\n",
    "axs.legend(frameon=False, fontsize=8)\n",
    "axs.set_ylabel(r'$H_\\textrm{ads}$ [meV]')\n",
    "axs.set_ylim([-600,-300])\n",
    "axs.set_xlim([-0.5,6.5])\n",
    "\n",
    "plt.savefig('Figures/SI_Figure-Hads_rutile_N2O_Configurations.png')"
   ]
  }
 ],
 "metadata": {
  "kernelspec": {
   "display_name": "quacc_skzcamv2",
   "language": "python",
   "name": "python3"
  },
  "language_info": {
   "codemirror_mode": {
    "name": "ipython",
    "version": 3
   },
   "file_extension": ".py",
   "mimetype": "text/x-python",
   "name": "python",
   "nbconvert_exporter": "python",
   "pygments_lexer": "ipython3",
   "version": "3.11.8"
  }
 },
 "nbformat": 4,
 "nbformat_minor": 2
}
