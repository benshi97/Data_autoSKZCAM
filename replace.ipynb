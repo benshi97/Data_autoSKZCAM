{
 "cells": [
  {
   "cell_type": "code",
   "execution_count": 3,
   "metadata": {},
   "outputs": [],
   "source": [
    "from ase.units import kB, mol, kcal, kJ, Hartree, Bohr"
   ]
  },
  {
   "cell_type": "code",
   "execution_count": 9,
   "metadata": {},
   "outputs": [
    {
     "data": {
      "text/plain": [
       "0.5291772105638411"
      ]
     },
     "execution_count": 9,
     "metadata": {},
     "output_type": "execute_result"
    }
   ],
   "source": [
    "Bohr"
   ]
  },
  {
   "cell_type": "code",
   "execution_count": null,
   "metadata": {},
   "outputs": [],
   "source": []
  },
  {
   "cell_type": "code",
   "execution_count": null,
   "metadata": {},
   "outputs": [],
   "source": []
  },
  {
   "cell_type": "code",
   "execution_count": 2,
   "metadata": {},
   "outputs": [
    {
     "name": "stdout",
     "output_type": "stream",
     "text": [
      "## Table of Contents\n",
      "\n",
      "2. [Research data supporting \"Reliable Insights into Surface Chemistry Enabled by Combining Experiments with Fast and Accurate Theory\"](#research-data-supporting-\"reliable-insights-into-surface-chemistry-enabled-by-combining-experiments-with-fast-and-accurate-theory\")\n",
      "3. [*H*<sub>ads</sub> from the experimental literature](#*h*<sub>ads</sub>-from-the-experimental-literature)\n",
      "4. [Computing *E*<sub>rlx</sub>, *E*<sub>therm</sub> and *E*<sub>ZPV</sub> from DFT](#computing-*e*<sub>rlx</sub>,-*e*<sub>therm</sub>-and-*e*<sub>zpv</sub>-from-dft)\n",
      "5. [Computing *E*<sub>int</sub> with the SKZCAM protocol](#computing-*e*<sub>int</sub>-with-the-skzcam-protocol)\n",
      "6. [Contributions for the cohesive and conformational energy from WFT in selected systems](#contributions-for-the-cohesive-and-conformational-energy-from-wft-in-selected-systems)\n",
      "7. [Contribution for Dissociation of CH₃OH and H₂O Clusters on MgO(001)](#contribution-for-dissociation-of-ch₃oh-and-h₂o-clusters-on-mgo(001))\n",
      "8. [Final *E*<sub>ads</sub> and *H*<sub>ads</sub> estimates from autoSKZCAM](#final-*e*<sub>ads</sub>-and-*h*<sub>ads</sub>-estimates-from-autoskzcam)\n",
      "9. [Validating autoSKZCAM error bar estimates on CO<sub>2</sub> on MgO(001) system](#validating-autoskzcam-error-bar-estimates-on-co<sub>2</sub>-on-mgo(001)-system)\n",
      "10. [Comparison between theory and/or experiment](#comparison-between-theory-and/or-experiment)\n",
      "11. [Previous DFT literature](#previous-dft-literature)\n",
      "12. [*E*<sub>int</sub> comparison between autoSKZCAM and DFT & RPA](#*e*<sub>int</sub>-comparison-between-autoskzcam-and-dft-&-rpa)\n",
      "13. [Insights into molecular binding](#insights-into-molecular-binding)\n",
      "14. [Comparison of accuracy and cost of DFT against autoSKZCAM](#comparison-of-accuracy-and-cost-of-dft-against-autoskzcam)\n",
      "15. [Miscellaneous](#miscellaneous)\n",
      "\n"
     ]
    }
   ],
   "source": [
    "import nbformat\n",
    "\n",
    "def generate_top_level_toc(notebook_path):\n",
    "    with open(notebook_path, 'r', encoding='utf-8') as f:\n",
    "        nb = nbformat.read(f, as_version=4)\n",
    "\n",
    "    toc = \"## Table of Contents\\n\\n\"\n",
    "    for cell in nb.cells:\n",
    "        if cell.cell_type == 'markdown':\n",
    "            lines = cell.source.split('\\n')\n",
    "            for line in lines:\n",
    "                if line.startswith('# ') and not line.startswith('##') and not line.startswith('###'):\n",
    "                    header = line.strip('# ').strip()\n",
    "                    link = header.lower().replace(' ', '-')\n",
    "                    toc += f\"{len(toc.splitlines())}. [{header}](#{link})\\n\"\n",
    "\n",
    "    return toc\n",
    "\n",
    "# Replace 'your_notebook.ipynb' with the path to your notebook\n",
    "toc_markdown = generate_top_level_toc('analyse.ipynb')\n",
    "print(toc_markdown)"
   ]
  },
  {
   "cell_type": "code",
   "execution_count": null,
   "metadata": {},
   "outputs": [],
   "source": []
  },
  {
   "cell_type": "code",
   "execution_count": null,
   "metadata": {},
   "outputs": [],
   "source": [
    "co2_xc_skzcam_cluster_size_dict = {functional: {} for functional in crystal_xc_func_ensemble['MgO']}\n",
    "co2_xc_skzcam_cluster_eint_dict = {functional: {} for functional in crystal_xc_func_ensemble['MgO']}\n",
    "\n",
    "for functional in crystal_xc_func_ensemble['MgO']:\n",
    "    molecule = 'CO2 Chemisorbed'\n",
    "    molecule_label = molecule.replace(' ', '_')\n",
    "    num_monomer = 1\n",
    "    for cluster_number in ['1','2','3','4','5','6','7']:\n",
    "        filedir = f'Data/Miscellaneous/Error_Validation_CO2_MgO/{functional}/Cluster_{cluster_number}'\n",
    "        outputname = f'MP2_awCV'\n",
    "        try:\n",
    "            # First get DZ Eint value\n",
    "            mp2_total_eint = calculate_skzcam_eint(filedir = filedir, outputname = outputname, code='orca', method='mp2_total', basis='DZ')/num_monomer\n",
    "            # If dictionary does not exist, create it\n",
    "            if cluster_number not in co2_xc_skzcam_cluster_eint_dict[functional]:\n",
    "                co2_xc_skzcam_cluster_eint_dict[functional][cluster_number] = {}\n",
    "                co2_xc_skzcam_cluster_size_dict[functional][cluster_number] = {}\n",
    "            co2_xc_skzcam_cluster_eint_dict[functional][cluster_number][f'MP2 awCVDZ'] = mp2_total_eint\n",
    "            co2_xc_skzcam_cluster_size_dict[functional][cluster_number] = get_skzcam_cluster_size(f'{filedir}/Surface/{outputname}DZ.orca.out')\n",
    "        except:\n",
    "            pass\n",
    "\n",
    "        try:\n",
    "            # Then get CBS(DZ/TZ) Eint value\n",
    "            hf_scf_eint = calculate_skzcam_eint(filedir = filedir, outputname = outputname, code='orca', method='mp2_hf', basis=['DZ','TZ'], cbs_type='scf_energy')/num_monomer\n",
    "            mp2_corr_eint = calculate_skzcam_eint(filedir = filedir, outputname = outputname, code='orca', method='mp2_corr', basis=['DZ','TZ'], cbs_type='correlation_energy')/num_monomer\n",
    "            co2_xc_skzcam_cluster_eint_dict[functional][cluster_number][f'MP2 CBS(awCVDZ/awCVTZ)'] = hf_scf_eint + mp2_corr_eint\n",
    "        except:\n",
    "            pass\n",
    "\n",
    "        try:\n",
    "            # Then get CBS(TZ/QZ) Eint value\n",
    "            hf_scf_eint = calculate_skzcam_eint(filedir = filedir, outputname = outputname, code='orca', method='mp2_hf', basis=['TZ','QZ'], cbs_type='scf_energy')/num_monomer\n",
    "            mp2_corr_eint = calculate_skzcam_eint(filedir = filedir, outputname = outputname, code='orca', method='mp2_corr', basis=['TZ','QZ'], cbs_type='correlation_energy')/num_monomer\n",
    "            co2_xc_skzcam_cluster_eint_dict[functional][cluster_number][f'MP2 CBS(awCVTZ/awCVQZ)'] = hf_scf_eint + mp2_corr_eint\n",
    "        except:\n",
    "            pass\n",
    "        \n",
    "        outputname = f'LNOCCSDT_awCV'\n",
    "        try:\n",
    "            # Get the CBS(DZ/TZ) LNO-CCSD(T) Eint value\n",
    "            hf_scf_eint = calculate_skzcam_eint(filedir = filedir, outputname = outputname, code='mrcc', method='hf', basis=['DZ','TZ'], cbs_type='scf_energy')/num_monomer\n",
    "            ccsdt_corr_eint = calculate_skzcam_eint(filedir = filedir, outputname = outputname, code='mrcc', method='lccsdt_corr', basis=['DZ','TZ'], cbs_type='correlation_energy')/num_monomer\n",
    "            ccsd_corr_eint = calculate_skzcam_eint(filedir = filedir, outputname = outputname, code='mrcc', method='lccsd_corr', basis=['DZ','TZ'], cbs_type='correlation_energy')/num_monomer\n",
    "            mp2_corr_eint = calculate_skzcam_eint(filedir = filedir, outputname = outputname, code='mrcc', method='lmp2_corr', basis=['DZ','TZ'], cbs_type='correlation_energy')/num_monomer\n",
    "            co2_xc_skzcam_cluster_eint_dict[functional][cluster_number][f'LNO-CCSD(T) CBS({basis_type}DZ/{basis_type}TZ)'] = hf_scf_eint + ccsdt_corr_eint\n",
    "            co2_xc_skzcam_cluster_eint_dict[functional][cluster_number][f'LNO-CCSD CBS({basis_type}DZ/{basis_type}TZ)'] = hf_scf_eint + ccsd_corr_eint\n",
    "            co2_xc_skzcam_cluster_eint_dict[functional][cluster_number][f'LMP2 CBS({basis_type}DZ/{basis_type}TZ)'] = hf_scf_eint + mp2_corr_eint\n",
    "        except:\n",
    "            pass"
   ]
  },
  {
   "cell_type": "code",
   "execution_count": null,
   "metadata": {},
   "outputs": [],
   "source": []
  },
  {
   "cell_type": "code",
   "execution_count": null,
   "metadata": {},
   "outputs": [],
   "source": []
  },
  {
   "cell_type": "code",
   "execution_count": 1,
   "metadata": {},
   "outputs": [],
   "source": [
    "import numpy as np\n",
    "from ase import units\n",
    "from scipy.stats import linregress\n",
    "from datetime import datetime\n",
    "from ase.units import mol, kcal, kJ, Hartree, Bohr\n",
    "import pandas as pd\n",
    "from ase import io\n",
    "import re\n",
    "\n",
    "\n",
    "# Some basic conversion factors\n",
    "cm1_to_eV = 1 / 8065.54429\n",
    "hundredcm1 = 100 * cm1_to_eV * 1000\n",
    "kcalmol_to_meV = kcal / mol * 1000\n",
    "kjmol_to_meV = kJ / mol * 1000\n",
    "mha_to_meV = Hartree"
   ]
  },
  {
   "cell_type": "code",
   "execution_count": 2,
   "metadata": {},
   "outputs": [],
   "source": [
    "def get_mrcc_walltime(filename):\n",
    "    \"\"\"\n",
    "    Reads the walltime from the mrcc.out file.\n",
    "        \n",
    "    Parameters\n",
    "    ----------\n",
    "    filename : str\n",
    "        The location of the 'mrcc.out' file to read from.\n",
    "   \n",
    "   Returns\n",
    "    -------\n",
    "    float\n",
    "        The walltime in seconds.\n",
    "        \n",
    "    Notes\n",
    "    -----\n",
    "    This function reads the 'mrcc.out' file and extracts the start and end time information to calculate the total walltime taken by the MRCC calculation. The function calculates the time duration between the timestamps found in the file and returns it in seconds.\n",
    "    \"\"\"\n",
    "\n",
    "    # Get the start and end time from the file\n",
    "    orig_time = datetime(1, 1, 1, 0, 0)\n",
    "    total_time = datetime(1, 1, 1, 0, 0)\n",
    "\n",
    "    f = open(filename)\n",
    "    a = f.readlines()\n",
    "    b1 = datetime.strptime(\n",
    "        a[19].split()[1] + \"-\" + a[19].split()[2], \"%Y-%m-%d-%H:%M:%S\"\n",
    "    )\n",
    "    b2 = datetime.strptime(\n",
    "        a[-3].split()[1] + \"-\" + a[-3].split()[2], \"%Y-%m-%d-%H:%M:%S\"\n",
    "    )\n",
    "    total_time = total_time + (b2 - b1)\n",
    "    f.close()\n",
    "    return (total_time - orig_time).total_seconds()"
   ]
  },
  {
   "cell_type": "code",
   "execution_count": 7,
   "metadata": {},
   "outputs": [],
   "source": [
    "def get_orca_walltime(filename):\n",
    "    \"\"\"\n",
    "    Reads the walltime from the mrcc.out file.\n",
    "        \n",
    "    Parameters\n",
    "    ----------\n",
    "    filename : str\n",
    "        The location of the 'mrcc.out' file to read from.\n",
    "   \n",
    "   Returns\n",
    "    -------\n",
    "    float\n",
    "        The walltime in seconds.\n",
    "        \n",
    "    Notes\n",
    "    -----\n",
    "    This function reads the 'orca.out' file and extracts the start and end time information to calculate the total walltime in seconds taken by the ORCA calculation. The function calculates the time duration between the timestamps found in the file and returns it in seconds.\n",
    "    \"\"\"\n",
    "\n",
    "    # Get the start and end time from the file\n",
    "    orig_time = datetime(1, 1, 1, 0, 0)\n",
    "    total_time = datetime(1, 1, 1, 0, 0)\n",
    "\n",
    "    f = open(filename)\n",
    "    line = f.readlines()[-1].split()\n",
    "    f.close()\n",
    "\n",
    "    total_time_minutes = float(line[3])*24*60*60+ float(line[5])*60*60 + float(line[7])*60 + float(line[9])\n",
    "    return total_time_minutes"
   ]
  },
  {
   "cell_type": "code",
   "execution_count": 12,
   "metadata": {},
   "outputs": [
    {
     "data": {
      "text/plain": [
       "166033.0"
      ]
     },
     "execution_count": 12,
     "metadata": {},
     "output_type": "execute_result"
    }
   ],
   "source": [
    "get_orca_walltime('Data/05b-Eint_SKZCAM/r-TiO2/H2O/Cluster_7/Molecule-Surface/MP2_aVDZ.orca.out')"
   ]
  },
  {
   "cell_type": "code",
   "execution_count": 13,
   "metadata": {},
   "outputs": [
    {
     "data": {
      "text/plain": [
       "166033"
      ]
     },
     "execution_count": 13,
     "metadata": {},
     "output_type": "execute_result"
    }
   ],
   "source": [
    "1*24*60*60+22*60*60+7*60+13"
   ]
  },
  {
   "cell_type": "code",
   "execution_count": 11,
   "metadata": {},
   "outputs": [
    {
     "data": {
      "text/plain": [
       "10048"
      ]
     },
     "execution_count": 11,
     "metadata": {},
     "output_type": "execute_result"
    }
   ],
   "source": [
    "2*60*60+47*60+28"
   ]
  },
  {
   "cell_type": "code",
   "execution_count": 3,
   "metadata": {},
   "outputs": [],
   "source": [
    "line = 'TOTAL RUN TIME: 0 days 0 hours 0 minutes 12 seconds 900 msec'"
   ]
  },
  {
   "cell_type": "code",
   "execution_count": 5,
   "metadata": {},
   "outputs": [
    {
     "data": {
      "text/plain": [
       "['TOTAL',\n",
       " 'RUN',\n",
       " 'TIME:',\n",
       " '0',\n",
       " 'days',\n",
       " '0',\n",
       " 'hours',\n",
       " '0',\n",
       " 'minutes',\n",
       " '12',\n",
       " 'seconds',\n",
       " '900',\n",
       " 'msec']"
      ]
     },
     "execution_count": 5,
     "metadata": {},
     "output_type": "execute_result"
    }
   ],
   "source": [
    "float(line.split()[3])*24*60+ float(line.split()[5])*60 + float(line.split()[7]) + float(line.split()[9])"
   ]
  },
  {
   "cell_type": "code",
   "execution_count": null,
   "metadata": {},
   "outputs": [],
   "source": []
  },
  {
   "cell_type": "code",
   "execution_count": null,
   "metadata": {},
   "outputs": [],
   "source": [
    "fig, axs = plt.subplots(figsize=(3.365,3.5),dpi=600, sharey=True, constrained_layout=True) #,gridspec_kw={'width_ratios':[0.65,2]})\n",
    "\n",
    "autoskzcam_n2o_parallel_hads = autoskzcam_final_hads_dict['MgO']['N2O Parallel']['Final'][0]\n",
    "autoskzcam_n2o_parallel_hads_error = autoskzcam_final_hads_dict['MgO']['N2O Parallel']['Final'][1]\n",
    "dft_xc_n2o_parallel_hads = [dft_eads_true_dict['MgO']['N2O Parallel'][xc_func] + autoskzcam_final_hads_dict['MgO']['N2O Parallel']['DFT DeltaH'][0] for xc_func in crystal_xc_func_ensemble['MgO']]\n",
    "dft_xc_n2o_parallel_hads_error = [autoskzcam_final_hads_dict['MgO']['N2O Parallel']['DFT DeltaH'][1] for xc_func in crystal_xc_func_ensemble['MgO']]\n",
    "autoskzcam_n2o_tilted_hads = autoskzcam_final_hads_dict['MgO']['N2O Tilted']['Final'][0]\n",
    "autoskzcam_n2o_tilted_hads_error = autoskzcam_final_hads_dict['MgO']['N2O Tilted']['Final'][1]\n",
    "dft_xc_n2o_tilted_hads = [dft_eads_true_dict['MgO']['N2O Tilted'][xc_func] + autoskzcam_final_hads_dict['MgO']['N2O Tilted']['DFT DeltaH'][0] for xc_func in crystal_xc_func_ensemble['MgO']]\n",
    "dft_xc_n2o_tilted_hads_error = [autoskzcam_final_hads_dict['MgO']['N2O Tilted']['DFT DeltaH'][1] for xc_func in crystal_xc_func_ensemble['MgO']]\n",
    "\n",
    "rutile_n2o_expt_hads = float(expt_hads_df.loc[(expt_hads_df['Surface'] == 'MgO') & (expt_hads_df['Molecule'] == 'N2O'), 'Hads'].values[0])\n",
    "rutile_n2o_expt_error = float(expt_hads_df.loc[(expt_hads_df['Surface'] == 'MgO') & (expt_hads_df['Molecule'] == 'N2O'), 'Error'].values[0])\n",
    "\n",
    "axs.errorbar(list(range(7)), [autoskzcam_n2o_parallel_hads] + dft_xc_n2o_parallel_hads, yerr = [autoskzcam_n2o_parallel_hads_error] + dft_xc_n2o_parallel_hads_error, color=color_dict['red'], alpha=0.7, ls='--', marker='o', capsize=2, label='Parallel')\n",
    "axs.errorbar(list(range(7)), [autoskzcam_n2o_tilted_hads] + dft_xc_n2o_tilted_hads, yerr = [autoskzcam_n2o_tilted_hads_error] + dft_xc_n2o_tilted_hads_error, color=color_dict['blue'], alpha=0.7, ls='--', marker='o', capsize=2, label='Tilted')\n",
    "\n",
    "axs.plot([-1,9], [rutile_n2o_expt_hads, rutile_n2o_expt_hads], color='k', linestyle='--', label=r'Expt. $H_\\textrm{ads}$')\n",
    "axs.fill_between([-1,9], rutile_n2o_expt_hads - rutile_n2o_expt_error, rutile_n2o_expt_hads + rutile_n2o_expt_error, color=color_dict['black'],alpha=0.1, edgecolor='none')\n",
    "\n",
    "\n",
    "axs.set_xticks(list(range(7)))\n",
    "axs.set_xticklabels([r'\\textbf{autoSKZCAM}'] + [convert_to_nice_labels['xc_functionals'][xc_func] for xc_func in crystal_xc_func_ensemble['MgO']],rotation=90,ha='center')\n",
    "axs.legend(frameon=False, fontsize=8)\n",
    "axs.set_ylabel(r'$H_\\textrm{ads}$ [meV]')\n",
    "axs.set_ylim([-600,-300])\n",
    "axs.set_xlim([-0.5,6.5])\n",
    "\n",
    "plt.savefig('Figures/SI_Figure-Hads_rutile_N2O_Configurations.png')"
   ]
  }
 ],
 "metadata": {
  "kernelspec": {
   "display_name": "quacc_skzcamv2",
   "language": "python",
   "name": "python3"
  },
  "language_info": {
   "codemirror_mode": {
    "name": "ipython",
    "version": 3
   },
   "file_extension": ".py",
   "mimetype": "text/x-python",
   "name": "python",
   "nbconvert_exporter": "python",
   "pygments_lexer": "ipython3",
   "version": "3.11.8"
  }
 },
 "nbformat": 4,
 "nbformat_minor": 2
}
