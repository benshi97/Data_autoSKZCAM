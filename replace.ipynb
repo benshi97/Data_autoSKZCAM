{
 "cells": [
  {
   "cell_type": "code",
   "execution_count": null,
   "metadata": {},
   "outputs": [],
   "source": [
    "fig, axs = plt.subplots(figsize=(3.365,3.5),dpi=600, sharey=True, constrained_layout=True) #,gridspec_kw={'width_ratios':[0.65,2]})\n",
    "\n",
    "autoskzcam_n2o_parallel_hads = autoskzcam_final_hads_dict['MgO']['N2O Parallel']['Final'][0]\n",
    "autoskzcam_n2o_parallel_hads_error = autoskzcam_final_hads_dict['MgO']['N2O Parallel']['Final'][1]\n",
    "dft_xc_n2o_parallel_hads = [dft_eads_true_dict['MgO']['N2O Parallel'][xc_func] + autoskzcam_final_hads_dict['MgO']['N2O Parallel']['DFT DeltaH'][0] for xc_func in crystal_xc_func_ensemble['MgO']]\n",
    "dft_xc_n2o_parallel_hads_error = [autoskzcam_final_hads_dict['MgO']['N2O Parallel']['DFT DeltaH'][1] for xc_func in crystal_xc_func_ensemble['MgO']]\n",
    "autoskzcam_n2o_tilted_hads = autoskzcam_final_hads_dict['MgO']['N2O Tilted']['Final'][0]\n",
    "autoskzcam_n2o_tilted_hads_error = autoskzcam_final_hads_dict['MgO']['N2O Tilted']['Final'][1]\n",
    "dft_xc_n2o_tilted_hads = [dft_eads_true_dict['MgO']['N2O Tilted'][xc_func] + autoskzcam_final_hads_dict['MgO']['N2O Tilted']['DFT DeltaH'][0] for xc_func in crystal_xc_func_ensemble['MgO']]\n",
    "dft_xc_n2o_tilted_hads_error = [autoskzcam_final_hads_dict['MgO']['N2O Tilted']['DFT DeltaH'][1] for xc_func in crystal_xc_func_ensemble['MgO']]\n",
    "\n",
    "rutile_n2o_expt_hads = float(expt_hads_df.loc[(expt_hads_df['Surface'] == 'MgO') & (expt_hads_df['Molecule'] == 'N2O'), 'Hads'].values[0])\n",
    "rutile_n2o_expt_error = float(expt_hads_df.loc[(expt_hads_df['Surface'] == 'MgO') & (expt_hads_df['Molecule'] == 'N2O'), 'Error'].values[0])\n",
    "\n",
    "axs.errorbar(list(range(7)), [autoskzcam_n2o_parallel_hads] + dft_xc_n2o_parallel_hads, yerr = [autoskzcam_n2o_parallel_hads_error] + dft_xc_n2o_parallel_hads_error, color=color_dict['red'], alpha=0.7, ls='--', marker='o', capsize=2, label='Parallel')\n",
    "axs.errorbar(list(range(7)), [autoskzcam_n2o_tilted_hads] + dft_xc_n2o_tilted_hads, yerr = [autoskzcam_n2o_tilted_hads_error] + dft_xc_n2o_tilted_hads_error, color=color_dict['blue'], alpha=0.7, ls='--', marker='o', capsize=2, label='Tilted')\n",
    "\n",
    "axs.plot([-1,9], [rutile_n2o_expt_hads, rutile_n2o_expt_hads], color='k', linestyle='--', label=r'Expt. $H_\\textrm{ads}$')\n",
    "axs.fill_between([-1,9], rutile_n2o_expt_hads - rutile_n2o_expt_error, rutile_n2o_expt_hads + rutile_n2o_expt_error, color=color_dict['black'],alpha=0.1, edgecolor='none')\n",
    "\n",
    "\n",
    "axs.set_xticks(list(range(7)))\n",
    "axs.set_xticklabels([r'\\textbf{autoSKZCAM}'] + [convert_to_nice_labels['xc_functionals'][xc_func] for xc_func in crystal_xc_func_ensemble['MgO']],rotation=90,ha='center')\n",
    "axs.legend(frameon=False, fontsize=8)\n",
    "axs.set_ylabel(r'$H_\\textrm{ads}$ [meV]')\n",
    "axs.set_ylim([-600,-300])\n",
    "axs.set_xlim([-0.5,6.5])\n",
    "\n",
    "plt.savefig('Figures/SI_Figure-Hads_rutile_N2O_Configurations.png')"
   ]
  }
 ],
 "metadata": {
  "language_info": {
   "name": "python"
  }
 },
 "nbformat": 4,
 "nbformat_minor": 2
}
